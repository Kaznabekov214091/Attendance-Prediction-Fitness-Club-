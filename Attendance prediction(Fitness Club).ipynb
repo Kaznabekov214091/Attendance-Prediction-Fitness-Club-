{
 "cells": [
  {
   "cell_type": "markdown",
   "id": "5da2c0a0",
   "metadata": {},
   "source": [
    "# Dataset\n",
    "The dataset contains the attendance information for the class scheduled this year so far. The data you will use for this analysis can be accessed here: `\"data/fitness_class.csv\"`\n",
    "\n",
    "| Column Name                     | Criteria                                                                                                                                                                        |\n",
    "|---------------------------------|---------------------------------------------------------------------------------------------------------------------------------------------------------------------------------|\n",
    "| Day of Week                     | Character, the day of the week the class was scheduled, one of values from “Mon” to “Sun”.                                                                                      |\n",
    "| Time                            | Character, the time of the day the class was scheduled, either \"AM\" or \"PM\".                                                                                                        |\n",
    "| Class Category                  | Character, the category of the fitness class, one of “Yoga”, “Aqua”, “Strength”, “HIIT”, or “Cycling”.                                                                          |\n",
    "| Days Before                     | Numeric, number of days the class stayed fully booked, maximum five days.                                                                                                       |\n",
    "| Class Capacity                  | Numeric, maximum number of members can sign up for that class, either 15 or 25.  The class capacity being 26 needs to be updated to 25.                                         |\n",
    "| Attendance                      | Numeric, number of members actually attended the class.                                                                                                                         |\n",
    "| Average Age                     | Numeric, average age of the members signing up for that class.  Remove rows that average age is smaller than 14 because group fitness class are for members aged 14 and order.  |\n",
    "| Number of New Students          | Numeric, number of new students signing up for this class.                                                                                                                      |\n",
    "| Number of Members Over 6 months | Numeric, number of members signing up for the class have been joining the club more than 6 months. "
   ]
  },
  {
   "cell_type": "code",
   "execution_count": 2,
   "id": "e30e8686",
   "metadata": {},
   "outputs": [],
   "source": [
    "import numpy as np \n",
    "import pandas as pd\n",
    "import seaborn as sns\n",
    "import matplotlib.pyplot as plt\n",
    "from sklearn.model_selection import train_test_split,cross_val_score\n",
    "from sklearn.linear_model import Lasso,Ridge,LinearRegression\n",
    "from sklearn.ensemble import RandomForestRegressor,GradientBoostingRegressor"
   ]
  },
  {
   "cell_type": "code",
   "execution_count": 4,
   "id": "94625307",
   "metadata": {},
   "outputs": [
    {
     "data": {
      "text/html": [
       "<div>\n",
       "<style scoped>\n",
       "    .dataframe tbody tr th:only-of-type {\n",
       "        vertical-align: middle;\n",
       "    }\n",
       "\n",
       "    .dataframe tbody tr th {\n",
       "        vertical-align: top;\n",
       "    }\n",
       "\n",
       "    .dataframe thead th {\n",
       "        text-align: right;\n",
       "    }\n",
       "</style>\n",
       "<table border=\"1\" class=\"dataframe\">\n",
       "  <thead>\n",
       "    <tr style=\"text-align: right;\">\n",
       "      <th></th>\n",
       "      <th>day_of_week</th>\n",
       "      <th>time</th>\n",
       "      <th>class_category</th>\n",
       "      <th>class_capacity</th>\n",
       "      <th>days_before</th>\n",
       "      <th>attendance</th>\n",
       "      <th>age</th>\n",
       "      <th>new_students</th>\n",
       "      <th>over_6_month</th>\n",
       "    </tr>\n",
       "  </thead>\n",
       "  <tbody>\n",
       "    <tr>\n",
       "      <th>0</th>\n",
       "      <td>Wed</td>\n",
       "      <td>AM</td>\n",
       "      <td>Yoga</td>\n",
       "      <td>15</td>\n",
       "      <td>1</td>\n",
       "      <td>8</td>\n",
       "      <td>31.1</td>\n",
       "      <td>6</td>\n",
       "      <td>4</td>\n",
       "    </tr>\n",
       "    <tr>\n",
       "      <th>1</th>\n",
       "      <td>Sun</td>\n",
       "      <td>PM</td>\n",
       "      <td>Aqua</td>\n",
       "      <td>15</td>\n",
       "      <td>3</td>\n",
       "      <td>8</td>\n",
       "      <td>27.0</td>\n",
       "      <td>7</td>\n",
       "      <td>8</td>\n",
       "    </tr>\n",
       "    <tr>\n",
       "      <th>2</th>\n",
       "      <td>Mon</td>\n",
       "      <td>AM</td>\n",
       "      <td>Aqua</td>\n",
       "      <td>15</td>\n",
       "      <td>5</td>\n",
       "      <td>10</td>\n",
       "      <td>22.4</td>\n",
       "      <td>8</td>\n",
       "      <td>7</td>\n",
       "    </tr>\n",
       "    <tr>\n",
       "      <th>3</th>\n",
       "      <td>Sun</td>\n",
       "      <td>PM</td>\n",
       "      <td>Strength</td>\n",
       "      <td>25</td>\n",
       "      <td>3</td>\n",
       "      <td>18</td>\n",
       "      <td>23.5</td>\n",
       "      <td>7</td>\n",
       "      <td>9</td>\n",
       "    </tr>\n",
       "    <tr>\n",
       "      <th>4</th>\n",
       "      <td>Mon</td>\n",
       "      <td>AM</td>\n",
       "      <td>Yoga</td>\n",
       "      <td>15</td>\n",
       "      <td>5</td>\n",
       "      <td>10</td>\n",
       "      <td>29.8</td>\n",
       "      <td>5</td>\n",
       "      <td>7</td>\n",
       "    </tr>\n",
       "  </tbody>\n",
       "</table>\n",
       "</div>"
      ],
      "text/plain": [
       "  day_of_week time class_category  class_capacity  days_before  attendance  \\\n",
       "0         Wed   AM           Yoga              15            1           8   \n",
       "1         Sun   PM           Aqua              15            3           8   \n",
       "2         Mon   AM           Aqua              15            5          10   \n",
       "3         Sun   PM       Strength              25            3          18   \n",
       "4         Mon   AM           Yoga              15            5          10   \n",
       "\n",
       "    age  new_students  over_6_month  \n",
       "0  31.1             6             4  \n",
       "1  27.0             7             8  \n",
       "2  22.4             8             7  \n",
       "3  23.5             7             9  \n",
       "4  29.8             5             7  "
      ]
     },
     "execution_count": 4,
     "metadata": {},
     "output_type": "execute_result"
    }
   ],
   "source": [
    "#load dataset\n",
    "data=pd.read_csv('fitness_class.csv')\n",
    "data.head()"
   ]
  },
  {
   "cell_type": "code",
   "execution_count": 5,
   "id": "14c8aed8",
   "metadata": {},
   "outputs": [
    {
     "name": "stdout",
     "output_type": "stream",
     "text": [
      "<class 'pandas.core.frame.DataFrame'>\n",
      "RangeIndex: 765 entries, 0 to 764\n",
      "Data columns (total 9 columns):\n",
      " #   Column          Non-Null Count  Dtype  \n",
      "---  ------          --------------  -----  \n",
      " 0   day_of_week     765 non-null    object \n",
      " 1   time            765 non-null    object \n",
      " 2   class_category  765 non-null    object \n",
      " 3   class_capacity  765 non-null    int64  \n",
      " 4   days_before     765 non-null    int64  \n",
      " 5   attendance      765 non-null    int64  \n",
      " 6   age             765 non-null    float64\n",
      " 7   new_students    765 non-null    int64  \n",
      " 8   over_6_month    765 non-null    int64  \n",
      "dtypes: float64(1), int64(5), object(3)\n",
      "memory usage: 53.9+ KB\n"
     ]
    }
   ],
   "source": [
    "data.info()"
   ]
  },
  {
   "cell_type": "code",
   "execution_count": 6,
   "id": "34fff138",
   "metadata": {},
   "outputs": [
    {
     "data": {
      "text/html": [
       "<div>\n",
       "<style scoped>\n",
       "    .dataframe tbody tr th:only-of-type {\n",
       "        vertical-align: middle;\n",
       "    }\n",
       "\n",
       "    .dataframe tbody tr th {\n",
       "        vertical-align: top;\n",
       "    }\n",
       "\n",
       "    .dataframe thead th {\n",
       "        text-align: right;\n",
       "    }\n",
       "</style>\n",
       "<table border=\"1\" class=\"dataframe\">\n",
       "  <thead>\n",
       "    <tr style=\"text-align: right;\">\n",
       "      <th></th>\n",
       "      <th>count</th>\n",
       "      <th>mean</th>\n",
       "      <th>std</th>\n",
       "      <th>min</th>\n",
       "      <th>25%</th>\n",
       "      <th>50%</th>\n",
       "      <th>75%</th>\n",
       "      <th>max</th>\n",
       "    </tr>\n",
       "  </thead>\n",
       "  <tbody>\n",
       "    <tr>\n",
       "      <th>class_capacity</th>\n",
       "      <td>765.0</td>\n",
       "      <td>17.542484</td>\n",
       "      <td>4.365481</td>\n",
       "      <td>15.0</td>\n",
       "      <td>15.0</td>\n",
       "      <td>15.0</td>\n",
       "      <td>25.0</td>\n",
       "      <td>26.0</td>\n",
       "    </tr>\n",
       "    <tr>\n",
       "      <th>days_before</th>\n",
       "      <td>765.0</td>\n",
       "      <td>2.547712</td>\n",
       "      <td>1.355379</td>\n",
       "      <td>1.0</td>\n",
       "      <td>1.0</td>\n",
       "      <td>2.0</td>\n",
       "      <td>4.0</td>\n",
       "      <td>5.0</td>\n",
       "    </tr>\n",
       "    <tr>\n",
       "      <th>attendance</th>\n",
       "      <td>765.0</td>\n",
       "      <td>9.563399</td>\n",
       "      <td>3.896598</td>\n",
       "      <td>4.0</td>\n",
       "      <td>7.0</td>\n",
       "      <td>9.0</td>\n",
       "      <td>11.0</td>\n",
       "      <td>21.0</td>\n",
       "    </tr>\n",
       "    <tr>\n",
       "      <th>age</th>\n",
       "      <td>765.0</td>\n",
       "      <td>29.092680</td>\n",
       "      <td>5.912063</td>\n",
       "      <td>8.3</td>\n",
       "      <td>25.3</td>\n",
       "      <td>29.0</td>\n",
       "      <td>33.2</td>\n",
       "      <td>48.8</td>\n",
       "    </tr>\n",
       "    <tr>\n",
       "      <th>new_students</th>\n",
       "      <td>765.0</td>\n",
       "      <td>5.917647</td>\n",
       "      <td>1.789224</td>\n",
       "      <td>1.0</td>\n",
       "      <td>5.0</td>\n",
       "      <td>6.0</td>\n",
       "      <td>7.0</td>\n",
       "      <td>11.0</td>\n",
       "    </tr>\n",
       "    <tr>\n",
       "      <th>over_6_month</th>\n",
       "      <td>765.0</td>\n",
       "      <td>7.577778</td>\n",
       "      <td>1.974518</td>\n",
       "      <td>2.0</td>\n",
       "      <td>6.0</td>\n",
       "      <td>8.0</td>\n",
       "      <td>9.0</td>\n",
       "      <td>13.0</td>\n",
       "    </tr>\n",
       "  </tbody>\n",
       "</table>\n",
       "</div>"
      ],
      "text/plain": [
       "                count       mean       std   min   25%   50%   75%   max\n",
       "class_capacity  765.0  17.542484  4.365481  15.0  15.0  15.0  25.0  26.0\n",
       "days_before     765.0   2.547712  1.355379   1.0   1.0   2.0   4.0   5.0\n",
       "attendance      765.0   9.563399  3.896598   4.0   7.0   9.0  11.0  21.0\n",
       "age             765.0  29.092680  5.912063   8.3  25.3  29.0  33.2  48.8\n",
       "new_students    765.0   5.917647  1.789224   1.0   5.0   6.0   7.0  11.0\n",
       "over_6_month    765.0   7.577778  1.974518   2.0   6.0   8.0   9.0  13.0"
      ]
     },
     "execution_count": 6,
     "metadata": {},
     "output_type": "execute_result"
    }
   ],
   "source": [
    "data.describe().T"
   ]
  },
  {
   "cell_type": "code",
   "execution_count": 7,
   "id": "5a6eed1c",
   "metadata": {},
   "outputs": [
    {
     "data": {
      "text/plain": [
       "<AxesSubplot:xlabel='attendance', ylabel='Count'>"
      ]
     },
     "execution_count": 7,
     "metadata": {},
     "output_type": "execute_result"
    },
    {
     "data": {
      "image/png": "[encoded data removed]",
      "text/plain": [
       "<Figure size 432x288 with 1 Axes>"
      ]
     },
     "metadata": {
      "needs_background": "light"
     },
     "output_type": "display_data"
    }
   ],
   "source": [
    "sns.histplot(data['attendance'])"
   ]
  },
  {
   "cell_type": "code",
   "execution_count": 8,
   "id": "78603141",
   "metadata": {},
   "outputs": [
    {
     "data": {
      "text/plain": [
       "<AxesSubplot:xlabel='class_category', ylabel='attendance'>"
      ]
     },
     "execution_count": 8,
     "metadata": {},
     "output_type": "execute_result"
    },
    {
     "data": {
      "image/png": "[encoded data removed]",
      "text/plain": [
       "<Figure size 432x288 with 1 Axes>"
      ]
     },
     "metadata": {
      "needs_background": "light"
     },
     "output_type": "display_data"
    }
   ],
   "source": [
    "sns.boxplot(y='attendance',x='class_category',data=data,hue='time')"
   ]
  },
  {
   "cell_type": "code",
   "execution_count": 9,
   "id": "b5122092",
   "metadata": {},
   "outputs": [
    {
     "data": {
      "text/plain": [
       "<AxesSubplot:xlabel='day_of_week', ylabel='attendance'>"
      ]
     },
     "execution_count": 9,
     "metadata": {},
     "output_type": "execute_result"
    },
    {
     "data": {
      "image/png": "[encoded data removed]",
      "text/plain": [
       "<Figure size 432x288 with 1 Axes>"
      ]
     },
     "metadata": {
      "needs_background": "light"
     },
     "output_type": "display_data"
    }
   ],
   "source": [
    "sns.boxplot(y='attendance',x='day_of_week',data=data)"
   ]
  },
  {
   "cell_type": "code",
   "execution_count": 10,
   "id": "96bbd17f",
   "metadata": {},
   "outputs": [
    {
     "data": {
      "text/plain": [
       "<AxesSubplot:xlabel='day_of_week', ylabel='attendance'>"
      ]
     },
     "execution_count": 10,
     "metadata": {},
     "output_type": "execute_result"
    },
    {
     "data": {
      "image/png": "[encoded data removed]",
      "text/plain": [
       "<Figure size 1440x720 with 1 Axes>"
      ]
     },
     "metadata": {
      "needs_background": "light"
     },
     "output_type": "display_data"
    }
   ],
   "source": [
    "plt.figure(figsize=(20,10))\n",
    "sns.boxplot(y='attendance',x='day_of_week',data=data,hue='class_category')"
   ]
  },
  {
   "cell_type": "code",
   "execution_count": 11,
   "id": "5f2c39bd",
   "metadata": {},
   "outputs": [
    {
     "data": {
      "text/plain": [
       "<Figure size 1440x1440 with 0 Axes>"
      ]
     },
     "metadata": {},
     "output_type": "display_data"
    },
    {
     "data": {
      "image/png": "[encoded data removed]",
      "text/plain": [
       "<Figure size 864x576 with 6 Axes>"
      ]
     },
     "metadata": {
      "needs_background": "light"
     },
     "output_type": "display_data"
    }
   ],
   "source": [
    "plt.figure(figsize=(20,20))\n",
    "fig,ax=plt.subplots(2,3,figsize=(12,8))\n",
    "ax=ax.flatten()\n",
    "for i,col in enumerate(data.select_dtypes(include=['int','float']).columns):\n",
    "    sns.histplot(data=data,x=col,ax=ax[i])\n",
    "plt.tight_layout()"
   ]
  },
  {
   "cell_type": "code",
   "execution_count": 12,
   "id": "4e2d315c",
   "metadata": {},
   "outputs": [
    {
     "data": {
      "text/plain": [
       "<AxesSubplot:>"
      ]
     },
     "execution_count": 12,
     "metadata": {},
     "output_type": "execute_result"
    },
    {
     "data": {
      "image/png": "[encoded data removed]",
      "text/plain": [
       "<Figure size 432x288 with 2 Axes>"
      ]
     },
     "metadata": {
      "needs_background": "light"
     },
     "output_type": "display_data"
    }
   ],
   "source": [
    "\n",
    "sns.heatmap(data.corr(),cmap='viridis',mask=np.triu(data.corr()),annot=True)"
   ]
  },
  {
   "cell_type": "code",
   "execution_count": 13,
   "id": "f15555d3",
   "metadata": {},
   "outputs": [],
   "source": [
    "data=data[data['age']>=14]"
   ]
  },
  {
   "cell_type": "code",
   "execution_count": 14,
   "id": "4a2c6bad",
   "metadata": {},
   "outputs": [],
   "source": [
    "data[data['class_capacity']>25]=25"
   ]
  },
  {
   "cell_type": "code",
   "execution_count": 15,
   "id": "56093d3f",
   "metadata": {},
   "outputs": [
    {
     "data": {
      "text/plain": [
       "15    571\n",
       "25    191\n",
       "Name: class_capacity, dtype: int64"
      ]
     },
     "execution_count": 15,
     "metadata": {},
     "output_type": "execute_result"
    }
   ],
   "source": [
    "data['class_capacity'].value_counts()"
   ]
  },
  {
   "cell_type": "code",
   "execution_count": 16,
   "id": "dc0cf4c2",
   "metadata": {},
   "outputs": [],
   "source": [
    "data['attendance_capacity_ratio']=round(data['attendance']/data['class_capacity'],2)\n",
    "data['new_students_attendance_ratio']=round(data['new_students']/data['attendance'],2)\n",
    "data['over6_attendance_ration']=round(data['over_6_month']/data['attendance'],2)"
   ]
  },
  {
   "cell_type": "code",
   "execution_count": 17,
   "id": "0409e04c",
   "metadata": {},
   "outputs": [
    {
     "data": {
      "text/plain": [
       "<AxesSubplot:>"
      ]
     },
     "execution_count": 17,
     "metadata": {},
     "output_type": "execute_result"
    },
    {
     "data": {
      "image/png": "[encoded data removed]",
      "text/plain": [
       "<Figure size 432x288 with 2 Axes>"
      ]
     },
     "metadata": {
      "needs_background": "light"
     },
     "output_type": "display_data"
    }
   ],
   "source": [
    "sns.heatmap(data.corr(),cmap='viridis',mask=np.triu(data.corr()),annot=True)"
   ]
  },
  {
   "cell_type": "code",
   "execution_count": 18,
   "id": "7662f736",
   "metadata": {},
   "outputs": [],
   "source": [
    "cat_feat=data.select_dtypes(include=['object']).columns"
   ]
  },
  {
   "cell_type": "code",
   "execution_count": 19,
   "id": "0dada821",
   "metadata": {},
   "outputs": [],
   "source": [
    "from sklearn.preprocessing import OrdinalEncoder"
   ]
  },
  {
   "cell_type": "code",
   "execution_count": 20,
   "id": "df93e640",
   "metadata": {},
   "outputs": [],
   "source": [
    "encoder=OrdinalEncoder()"
   ]
  },
  {
   "cell_type": "code",
   "execution_count": 21,
   "id": "e02cef69",
   "metadata": {},
   "outputs": [],
   "source": [
    "data[cat_feat]=encoder.fit_transform(data[cat_feat].astype(str))\n"
   ]
  },
  {
   "cell_type": "code",
   "execution_count": 23,
   "id": "b4cb4d67",
   "metadata": {},
   "outputs": [
    {
     "data": {
      "text/html": [
       "<div>\n",
       "<style scoped>\n",
       "    .dataframe tbody tr th:only-of-type {\n",
       "        vertical-align: middle;\n",
       "    }\n",
       "\n",
       "    .dataframe tbody tr th {\n",
       "        vertical-align: top;\n",
       "    }\n",
       "\n",
       "    .dataframe thead th {\n",
       "        text-align: right;\n",
       "    }\n",
       "</style>\n",
       "<table border=\"1\" class=\"dataframe\">\n",
       "  <thead>\n",
       "    <tr style=\"text-align: right;\">\n",
       "      <th></th>\n",
       "      <th>day_of_week</th>\n",
       "      <th>time</th>\n",
       "      <th>class_category</th>\n",
       "      <th>class_capacity</th>\n",
       "      <th>days_before</th>\n",
       "      <th>attendance</th>\n",
       "      <th>age</th>\n",
       "      <th>new_students</th>\n",
       "      <th>over_6_month</th>\n",
       "      <th>attendance_capacity_ratio</th>\n",
       "      <th>new_students_attendance_ratio</th>\n",
       "      <th>over6_attendance_ration</th>\n",
       "    </tr>\n",
       "  </thead>\n",
       "  <tbody>\n",
       "    <tr>\n",
       "      <th>0</th>\n",
       "      <td>7.0</td>\n",
       "      <td>1.0</td>\n",
       "      <td>5.0</td>\n",
       "      <td>15</td>\n",
       "      <td>1</td>\n",
       "      <td>8</td>\n",
       "      <td>31.1</td>\n",
       "      <td>6</td>\n",
       "      <td>4</td>\n",
       "      <td>0.53</td>\n",
       "      <td>0.75</td>\n",
       "      <td>0.5</td>\n",
       "    </tr>\n",
       "    <tr>\n",
       "      <th>1</th>\n",
       "      <td>4.0</td>\n",
       "      <td>2.0</td>\n",
       "      <td>1.0</td>\n",
       "      <td>15</td>\n",
       "      <td>3</td>\n",
       "      <td>8</td>\n",
       "      <td>27.0</td>\n",
       "      <td>7</td>\n",
       "      <td>8</td>\n",
       "      <td>0.53</td>\n",
       "      <td>0.88</td>\n",
       "      <td>1.0</td>\n",
       "    </tr>\n",
       "    <tr>\n",
       "      <th>2</th>\n",
       "      <td>2.0</td>\n",
       "      <td>1.0</td>\n",
       "      <td>1.0</td>\n",
       "      <td>15</td>\n",
       "      <td>5</td>\n",
       "      <td>10</td>\n",
       "      <td>22.4</td>\n",
       "      <td>8</td>\n",
       "      <td>7</td>\n",
       "      <td>0.67</td>\n",
       "      <td>0.80</td>\n",
       "      <td>0.7</td>\n",
       "    </tr>\n",
       "    <tr>\n",
       "      <th>3</th>\n",
       "      <td>4.0</td>\n",
       "      <td>2.0</td>\n",
       "      <td>4.0</td>\n",
       "      <td>25</td>\n",
       "      <td>3</td>\n",
       "      <td>18</td>\n",
       "      <td>23.5</td>\n",
       "      <td>7</td>\n",
       "      <td>9</td>\n",
       "      <td>0.72</td>\n",
       "      <td>0.39</td>\n",
       "      <td>0.5</td>\n",
       "    </tr>\n",
       "    <tr>\n",
       "      <th>4</th>\n",
       "      <td>2.0</td>\n",
       "      <td>1.0</td>\n",
       "      <td>5.0</td>\n",
       "      <td>15</td>\n",
       "      <td>5</td>\n",
       "      <td>10</td>\n",
       "      <td>29.8</td>\n",
       "      <td>5</td>\n",
       "      <td>7</td>\n",
       "      <td>0.67</td>\n",
       "      <td>0.50</td>\n",
       "      <td>0.7</td>\n",
       "    </tr>\n",
       "  </tbody>\n",
       "</table>\n",
       "</div>"
      ],
      "text/plain": [
       "   day_of_week  time  class_category  class_capacity  days_before  attendance  \\\n",
       "0          7.0   1.0             5.0              15            1           8   \n",
       "1          4.0   2.0             1.0              15            3           8   \n",
       "2          2.0   1.0             1.0              15            5          10   \n",
       "3          4.0   2.0             4.0              25            3          18   \n",
       "4          2.0   1.0             5.0              15            5          10   \n",
       "\n",
       "    age  new_students  over_6_month  attendance_capacity_ratio  \\\n",
       "0  31.1             6             4                       0.53   \n",
       "1  27.0             7             8                       0.53   \n",
       "2  22.4             8             7                       0.67   \n",
       "3  23.5             7             9                       0.72   \n",
       "4  29.8             5             7                       0.67   \n",
       "\n",
       "   new_students_attendance_ratio  over6_attendance_ration  \n",
       "0                           0.75                      0.5  \n",
       "1                           0.88                      1.0  \n",
       "2                           0.80                      0.7  \n",
       "3                           0.39                      0.5  \n",
       "4                           0.50                      0.7  "
      ]
     },
     "execution_count": 23,
     "metadata": {},
     "output_type": "execute_result"
    }
   ],
   "source": [
    "data.head()"
   ]
  },
  {
   "cell_type": "code",
   "execution_count": 24,
   "id": "fd39ac63",
   "metadata": {},
   "outputs": [],
   "source": [
    "X=data.drop('attendance',axis=1)\n",
    "y=data['attendance']"
   ]
  },
  {
   "cell_type": "code",
   "execution_count": 25,
   "id": "51aab90c",
   "metadata": {},
   "outputs": [],
   "source": [
    "X_train, X_test, y_train, y_test = train_test_split(X, y, test_size=0.2, random_state=42)"
   ]
  },
  {
   "cell_type": "code",
   "execution_count": 26,
   "id": "a97aaa9c",
   "metadata": {},
   "outputs": [],
   "source": [
    "models={'R':Ridge(alpha=0.1),\n",
    "       'L':Lasso(alpha=0.1),\n",
    "       'Linreg':LinearRegression(),\n",
    "       'rfr':RandomForestRegressor(),\n",
    "       'gbr':GradientBoostingRegressor()}\n",
    "\n",
    "results={}\n",
    "for name,model in models.items():\n",
    "    cross=cross_val_score(model,X_train,y_train,cv=10,scoring='r2')\n",
    "    results[name]=np.mean(cross)"
   ]
  },
  {
   "cell_type": "code",
   "execution_count": 27,
   "id": "fb017fd4",
   "metadata": {},
   "outputs": [
    {
     "name": "stdout",
     "output_type": "stream",
     "text": [
      "_______________\n",
      "R 0.9664709194105235\n",
      "_______________\n",
      "L 0.8916819281633739\n",
      "_______________\n",
      "Linreg 0.9665172798395393\n",
      "_______________\n",
      "rfr 0.9998223438177563\n",
      "_______________\n",
      "gbr 0.9999137809971319\n"
     ]
    }
   ],
   "source": [
    "for name,score in results.items():\n",
    "    print('_______________')\n",
    "    print(name,score)"
   ]
  },
  {
   "cell_type": "code",
   "execution_count": 28,
   "id": "c39dc65d",
   "metadata": {},
   "outputs": [
    {
     "data": {
      "text/plain": [
       "RandomForestRegressor()"
      ]
     },
     "execution_count": 28,
     "metadata": {},
     "output_type": "execute_result"
    }
   ],
   "source": [
    "RandomForest=RandomForestRegressor()\n",
    "RandomForest.fit(X_train,y_train)"
   ]
  },
  {
   "cell_type": "code",
   "execution_count": 29,
   "id": "02220ed4",
   "metadata": {},
   "outputs": [],
   "source": [
    "from sklearn.metrics import mean_absolute_error,mean_squared_error"
   ]
  },
  {
   "cell_type": "code",
   "execution_count": 30,
   "id": "387c5672",
   "metadata": {},
   "outputs": [
    {
     "name": "stdout",
     "output_type": "stream",
     "text": [
      "score of train data:  0.9999901645295077\n",
      "score of test data:  0.9999823734564992\n"
     ]
    }
   ],
   "source": [
    "print('score of train data: ',RandomForest.score(X_train,y_train))\n",
    "print('score of test data: ' ,RandomForest.score(X_test,y_test))"
   ]
  },
  {
   "cell_type": "code",
   "execution_count": 31,
   "id": "dce35de4",
   "metadata": {},
   "outputs": [],
   "source": [
    "prediction=RandomForest.predict(X_test)"
   ]
  },
  {
   "cell_type": "code",
   "execution_count": 32,
   "id": "49a6bb31",
   "metadata": {},
   "outputs": [
    {
     "name": "stdout",
     "output_type": "stream",
     "text": [
      "MAE: 0.0024836601307189534\n",
      "MSE: 0.01695823396897227\n"
     ]
    }
   ],
   "source": [
    "print('MAE:',mean_absolute_error(y_test,prediction))\n",
    "print('MSE:',mean_squared_error(y_test,prediction,squared=False))"
   ]
  },
  {
   "cell_type": "code",
   "execution_count": 33,
   "id": "4b60c15c",
   "metadata": {},
   "outputs": [],
   "source": [
    "pred_df=pd.DataFrame({'y_test':y_test,'prediction':prediction})\n",
    "pred_df['prediction']=pred_df['prediction'].astype('int')"
   ]
  },
  {
   "cell_type": "code",
   "execution_count": 34,
   "id": "fe88d8c6",
   "metadata": {},
   "outputs": [
    {
     "data": {
      "text/html": [
       "<div>\n",
       "<style scoped>\n",
       "    .dataframe tbody tr th:only-of-type {\n",
       "        vertical-align: middle;\n",
       "    }\n",
       "\n",
       "    .dataframe tbody tr th {\n",
       "        vertical-align: top;\n",
       "    }\n",
       "\n",
       "    .dataframe thead th {\n",
       "        text-align: right;\n",
       "    }\n",
       "</style>\n",
       "<table border=\"1\" class=\"dataframe\">\n",
       "  <thead>\n",
       "    <tr style=\"text-align: right;\">\n",
       "      <th></th>\n",
       "      <th>y_test</th>\n",
       "      <th>prediction</th>\n",
       "    </tr>\n",
       "  </thead>\n",
       "  <tbody>\n",
       "    <tr>\n",
       "      <th>199</th>\n",
       "      <td>4</td>\n",
       "      <td>4</td>\n",
       "    </tr>\n",
       "    <tr>\n",
       "      <th>263</th>\n",
       "      <td>10</td>\n",
       "      <td>10</td>\n",
       "    </tr>\n",
       "    <tr>\n",
       "      <th>39</th>\n",
       "      <td>8</td>\n",
       "      <td>8</td>\n",
       "    </tr>\n",
       "    <tr>\n",
       "      <th>452</th>\n",
       "      <td>5</td>\n",
       "      <td>5</td>\n",
       "    </tr>\n",
       "    <tr>\n",
       "      <th>598</th>\n",
       "      <td>12</td>\n",
       "      <td>12</td>\n",
       "    </tr>\n",
       "  </tbody>\n",
       "</table>\n",
       "</div>"
      ],
      "text/plain": [
       "     y_test  prediction\n",
       "199       4           4\n",
       "263      10          10\n",
       "39        8           8\n",
       "452       5           5\n",
       "598      12          12"
      ]
     },
     "execution_count": 34,
     "metadata": {},
     "output_type": "execute_result"
    }
   ],
   "source": [
    "pred_df.head()"
   ]
  },
  {
   "cell_type": "code",
   "execution_count": 35,
   "id": "4310eb62",
   "metadata": {},
   "outputs": [
    {
     "data": {
      "text/plain": [
       "<seaborn.axisgrid.FacetGrid at 0x24ad442e560>"
      ]
     },
     "execution_count": 35,
     "metadata": {},
     "output_type": "execute_result"
    },
    {
     "data": {
      "image/png": "[encoded data removed]",
      "text/plain": [
       "<Figure size 360x360 with 1 Axes>"
      ]
     },
     "metadata": {
      "needs_background": "light"
     },
     "output_type": "display_data"
    }
   ],
   "source": [
    "sns.lmplot(x='y_test',y='prediction',data=pred_df)"
   ]
  },
  {
   "cell_type": "code",
   "execution_count": null,
   "id": "945b4bf2",
   "metadata": {},
   "outputs": [],
   "source": []
  }
 ],
 "metadata": {
  "kernelspec": {
   "display_name": "Python 3 (ipykernel)",
   "language": "python",
   "name": "python3"
  },
  "language_info": {
   "codemirror_mode": {
    "name": "ipython",
    "version": 3
   },
   "file_extension": ".py",
   "mimetype": "text/x-python",
   "name": "python",
   "nbconvert_exporter": "python",
   "pygments_lexer": "ipython3",
   "version": "3.10.2"
  }
 },
 "nbformat": 4,
 "nbformat_minor": 5
}
